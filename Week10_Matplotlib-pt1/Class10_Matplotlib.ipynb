{
 "cells": [
  {
   "cell_type": "code",
   "execution_count": null,
   "metadata": {},
   "outputs": [],
   "source": [
    "#%matplotlib inline\n",
    "\n",
    "import matplotlib.pyplot as plt\n",
    "plt.get_backend()\n",
    "\n",
    "# Execute the code in this cell\n",
    "\n",
    "# Does the output look like this?: 'module://ipykernel.pylab.backend_inline' \n",
    "    # If so, then you're good to go\n",
    "    # If not, then uncomment the first line in this cell and rerun, hopefully that will fix the issue\n",
    "# Also, if you get an error saying that there is no matplotlib module, then you will need to install this 3rd party module before you get started"
   ]
  },
  {
   "cell_type": "code",
   "execution_count": null,
   "metadata": {},
   "outputs": [],
   "source": [
    "# Here, I'm importing another module that will be used in this notebook\n",
    "\n",
    "import random                # This is a standard python library that allows for pseudo random number generation\n",
    "                "
   ]
  },
  {
   "cell_type": "markdown",
   "metadata": {},
   "source": [
    "# Initiating your canvas"
   ]
  },
  {
   "cell_type": "code",
   "execution_count": null,
   "metadata": {},
   "outputs": [],
   "source": [
    "# The first step in generating a figure with Matplotlib is to initiate your canvas\n",
    "# You can do this with the subplots() function\n",
    "\n",
    "# This barebones version initiates a canvas of default size and with a single Axes object\n",
    "fig, ax = plt.subplots()\n",
    "\n",
    "# The default plot size is 6.4 inches wide and 4.8 inches tall "
   ]
  },
  {
   "cell_type": "code",
   "execution_count": null,
   "metadata": {},
   "outputs": [],
   "source": [
    "# This version still has a single Axes object, but now the figure size is being explicitly defined\n",
    "    # In this case, the figure will be 5 inches by 5 inches\n",
    "\n",
    "fig, ax = plt.subplots(figsize=(5,5))\n"
   ]
  },
  {
   "cell_type": "code",
   "execution_count": null,
   "metadata": {},
   "outputs": [],
   "source": [
    "### Now the canvas being initiated contains 4 distinct panels/Axes objects, \n",
    "    ### And these are arranged in two rows and two columns\n",
    "### The full figure size is still 5 inches by 5 inches\n",
    "\n",
    "###                      ***                The portion indicated with the stars is the part that defines the number of rows and columns to include\n",
    "fig, axes = plt.subplots(2,2,figsize=(5,5))\n",
    "\n",
    "### However, this week we'll be focusing on plots with a single set of axes"
   ]
  },
  {
   "cell_type": "markdown",
   "metadata": {},
   "source": [
    "# Adding plot elements"
   ]
  },
  {
   "cell_type": "markdown",
   "metadata": {},
   "source": [
    "## Scatter plots"
   ]
  },
  {
   "cell_type": "code",
   "execution_count": null,
   "metadata": {},
   "outputs": [],
   "source": [
    "### Let's initiate a new plot, 5 inches by 5 inches, with a single Axes object assigned to the 'ax' variable\n",
    "fig, ax = plt.subplots(figsize=(5,5))\n",
    "\n",
    "### Once you've initiated your canvas, it's time to start adding plot elements\n",
    "### This is done using built-in methods of the Axes object(s) associated with your figure\n",
    "\n",
    "### For example, you can use the scatter method to add a whole series of points defined by x and y coordinates\n",
    "\n",
    "### Here, I'm defining my x and y coordinates and I'm saving them as lists\n",
    "x=[0.0385, 0.1215, 0.0867, 0.0439, 0.6318, 0.0681, 0.0809, 0.0382, 0.2123, 0.0249, 0.07, 0.0755, 0.4677, 0.035, 0.3026, 0.332, 0.0307, 0.0456, 0.359, 0.3735, 0.3619, 0.0325, 0.0659, 0.0492, 0.0535, 0.0332, 0.4, 0.5, 0.4505, 0.0445, 0.0314, 0.0991, 0.14, 0.0837, 0.3684, 0.0579, 0.0461, 0.4477, 0.0515, 0.0207, 0.3732, 0.4071, 0.3392, 0.3836, 0.45, 0.3977, 0.4222, 0.0149, 0.0816, 0.0207, 0.3571, 0.3634, 0.034, 0.3827, 0.039, 0.0413, 0.0682, 0.0623, 0.4056, 0.0487, 0.0504, 0.0403, 0.0247, 0.1216, 0.1466, 0.1163, 0.5407, 0.5412, 0.0242, 0.1048, 0.1176, 0.1189, 0.0484, 0.0272, 0.0316, 0.0696, 0.0355, 0.0243, 0.0328, 0.0652, 0.0468, 0.1221, 0.0422, 0.081, 0.0426, 0.5463, 0.0367, 0.4922, 0.0444, 0.065, 0.032, 0.0697, 0.0565, 0.0395, 0.0595, 0.0221]\n",
    "y=[0.0567, 0.0947, 0.1211, 0.0204, 0.557, 0.1053, 0.1091, 0.0623, 0.1532, 0.0636, 0.057, 0.0476, 0.421, 0.001, 0.3616, 0.3673, 0.002, 0.0284, 0.4261, 0.4615, 0.3756, 0.0395, 0.0376, 0.0163, 0.0024, 0.0016, 0.3761, 0.3841, 0.4361, 0.0375, 0.0015, 0.0403, 0.066, 0.0952, 0.3972, 0.0735, 0.0441, 0.4342, 0.0497, 0.0393, 0.303, 0.4575, 0.3587, 0.4075, 0.4259, 0.3429, 0.4791, 0.0521, 0.047, 0.0321, 0.354, 0.3977, 0.018, 0.4438, 0.0565, 0.0481, 0.0704, 0.0964, 0.4426, 0.0461, 0.0397, 0.0511, 0.0324, 0.0822, 0.1407, 0.0984, 0.4797, 0.4671, 0.0387, 0.096, 0.1098, 0.0868, 0.0437, 0.0352, 0.0319, 0.0988, 0.0473, 0.0328, 0.0303, 0.0559, 0.025, 0.1167, 0.0543, 0.0776, 0.0508, 0.6119, 0.0368, 0.4643, 0.0476, 0.0606, 0.0256, 0.0476, 0.0551, 0.0141, 0.0588, 0.0601]\n",
    "\n",
    "### Here I'm adding the scatter points\n",
    "ax.scatter(x,y)\n",
    "### ^^^^^ This command illustrates the most barebone method for creating this scatterplot\n",
    "### But there are many optional parameters that can be specified to change the appearance \n",
    "    ### (see https://matplotlib.org/stable/api/_as_gen/matplotlib.axes.Axes.scatter.html)\n",
    "### Try commenting out the simple version on line 14 and testing each of the following examples in its place\n",
    "\n",
    "### Here, I'm generating the same plot, but changing the color of the circles to red\n",
    "#ax.scatter(x,y,c='red')\n",
    "\n",
    "### You can also speciy an RGB color in hexadecimal format\n",
    "#ax.scatter(x,y,c='#8856a7')\n",
    "\n",
    "### Or by specifying the proportion of red, green and blue\n",
    "#ax.scatter(x,y,c=[[221/256,28/256,119/256]])\n",
    "\n",
    "### Here, I've increased the size of all of the points evenly (s=200), \n",
    "    ### and I've made the points partially transparent (alpha=0.5)\n",
    "#ax.scatter(x,y, s=200, alpha=0.5)\n",
    "\n",
    "### You can also make each point a differnt size by providing a list/array of size values to the s argument\n",
    "    ### Note: this list/array must be the same size as x and y\n",
    "### In this example, these values have been generated by multiplying each x-coordinate by 300\n",
    "#ax.scatter(x,y, s=[300*i for i in x], alpha=0.5)\n",
    "\n",
    "### Colors can also be provided separately for each point by providing a list of colors to the c argument\n",
    "    ### Note: this list/array must be the same size as x and y\n",
    "    ### In this case, I'm generating this list by randomly choosing a color for each point from a list of three possible colors\n",
    "#ax.scatter(x,y, s=[300*i for i in x], alpha=0.5, c=[random.choice(['#1b9e77','#d95f02','#7570b3']) for each in x])\n",
    "\n"
   ]
  },
  {
   "cell_type": "markdown",
   "metadata": {},
   "source": [
    "## Lines"
   ]
  },
  {
   "cell_type": "code",
   "execution_count": null,
   "metadata": {},
   "outputs": [],
   "source": [
    "### There are several ways that you can add lines to your plots\n",
    "\n",
    "### One common use case is to add horizontal or vertical lines to your plots\n",
    "    ### For example, to indicate thresholds\n",
    "\n",
    "### There are methods that will allow precise control over the start and stop position of these lines\n",
    "    ### See the .hlines() method, for horizontal lines: https://matplotlib.org/stable/api/_as_gen/matplotlib.axes.Axes.hlines.html\n",
    "    ### And the .vlines() method, for vertical lines: https://matplotlib.org/stable/api/_as_gen/matplotlib.axes.Axes.vlines.html\n",
    "    \n",
    "### However, more often than not, I find that I just want a line that will conform to the size of the x and y limits of my data plot\n",
    "    ### For this, the .axhline() and .axvline() methods are the best\n",
    "    ### https://matplotlib.org/stable/api/_as_gen/matplotlib.axes.Axes.axhline.html\n",
    "    ### https://matplotlib.org/stable/api/_as_gen/matplotlib.axes.Axes.axvline.html\n",
    "  \n",
    "# These methods just require the position at which you want to draw the line \n",
    "    # Here, I'm using them to add one horizontal line and one vertical line to the scatterplot we generated above\n",
    "\n",
    "fig, ax = plt.subplots(figsize=(5,5))\n",
    "x=[0.0385, 0.1215, 0.0867, 0.0439, 0.6318, 0.0681, 0.0809, 0.0382, 0.2123, 0.0249, 0.07, 0.0755, 0.4677, 0.035, 0.3026, 0.332, 0.0307, 0.0456, 0.359, 0.3735, 0.3619, 0.0325, 0.0659, 0.0492, 0.0535, 0.0332, 0.4, 0.5, 0.4505, 0.0445, 0.0314, 0.0991, 0.14, 0.0837, 0.3684, 0.0579, 0.0461, 0.4477, 0.0515, 0.0207, 0.3732, 0.4071, 0.3392, 0.3836, 0.45, 0.3977, 0.4222, 0.0149, 0.0816, 0.0207, 0.3571, 0.3634, 0.034, 0.3827, 0.039, 0.0413, 0.0682, 0.0623, 0.4056, 0.0487, 0.0504, 0.0403, 0.0247, 0.1216, 0.1466, 0.1163, 0.5407, 0.5412, 0.0242, 0.1048, 0.1176, 0.1189, 0.0484, 0.0272, 0.0316, 0.0696, 0.0355, 0.0243, 0.0328, 0.0652, 0.0468, 0.1221, 0.0422, 0.081, 0.0426, 0.5463, 0.0367, 0.4922, 0.0444, 0.065, 0.032, 0.0697, 0.0565, 0.0395, 0.0595, 0.0221]\n",
    "y=[0.0567, 0.0947, 0.1211, 0.0204, 0.557, 0.1053, 0.1091, 0.0623, 0.1532, 0.0636, 0.057, 0.0476, 0.421, 0.001, 0.3616, 0.3673, 0.002, 0.0284, 0.4261, 0.4615, 0.3756, 0.0395, 0.0376, 0.0163, 0.0024, 0.0016, 0.3761, 0.3841, 0.4361, 0.0375, 0.0015, 0.0403, 0.066, 0.0952, 0.3972, 0.0735, 0.0441, 0.4342, 0.0497, 0.0393, 0.303, 0.4575, 0.3587, 0.4075, 0.4259, 0.3429, 0.4791, 0.0521, 0.047, 0.0321, 0.354, 0.3977, 0.018, 0.4438, 0.0565, 0.0481, 0.0704, 0.0964, 0.4426, 0.0461, 0.0397, 0.0511, 0.0324, 0.0822, 0.1407, 0.0984, 0.4797, 0.4671, 0.0387, 0.096, 0.1098, 0.0868, 0.0437, 0.0352, 0.0319, 0.0988, 0.0473, 0.0328, 0.0303, 0.0559, 0.025, 0.1167, 0.0543, 0.0776, 0.0508, 0.6119, 0.0368, 0.4643, 0.0476, 0.0606, 0.0256, 0.0476, 0.0551, 0.0141, 0.0588, 0.0601]\n",
    "ax.scatter(x,y, s=[300*i for i in x], alpha=0.5, c=[random.choice(['#1b9e77','#d95f02','#7570b3']) for each in x])\n",
    "\n",
    "# Here is where I'm adding the new lines\n",
    "ax.axhline(0.25)\n",
    "ax.axvline(0.25)\n",
    "\n",
    "# By default, the lines are solid and blue,\n",
    "    # But we can easily modify their appearance\n",
    "    # Try commenting out the two lines of code just above this, and uncommenting the following lines\n",
    "    # Here, we are specifying that the lines should be black (c=\"k\") and that they should be dashed, instead of solid (ls=\":\")\n",
    "#ax.axhline(0.25, c=\"k\", ls=\":\")\n",
    "#ax.axvline(0.25, c=\"k\", ls=\":\")\n",
    "\n",
    "### There are several different linestyles you can use when adding lines to your plots \n",
    "    ###(https://matplotlib.org/stable/gallery/lines_bars_and_markers/linestyles.html)\n",
    "### Style is specified with the 'linestyle(s)' or 'ls' argument\n",
    "### You can also change the line thickness with the 'linewidth(s)' or 'lw' argument\n"
   ]
  },
  {
   "cell_type": "code",
   "execution_count": null,
   "metadata": {},
   "outputs": [],
   "source": [
    "### If we want a line that is not horizontal or vertical, then we need to use the .plot() method \n",
    "    ### (https://matplotlib.org/stable/api/_as_gen/matplotlib.axes.Axes.plot.html)\n",
    "### This method will draw a line through all of the provided points\n",
    "\n",
    "### Here, I'm adding a straight, diagonal line to the scatter plot that we generated before\n",
    "    ### The line will pass through (0,0) and (0.6,0.6)\n",
    "\n",
    "fig, ax = plt.subplots(figsize=(5,5))\n",
    "ax.scatter(x,y, s=[300*i for i in x], c=[random.choice(['#1b9e77','#d95f02','#7570b3']) for each in x], zorder=2)\n",
    "ax.plot([0,0.6], [0,0.6], zorder=1, c=\"k\")\n",
    "\n",
    "### Note: The 'zorder' argument allows you to control which of your elements is in the foregound and which is in the background\n",
    "    ### The elements with the higher zorder values will be plotted in front of the elements with the lower values\n",
    "    ### I've turned off the transparency for this last example, so you can clearly see the scatter points are in the foreground\n"
   ]
  },
  {
   "cell_type": "markdown",
   "metadata": {},
   "source": [
    "# Axis labels"
   ]
  },
  {
   "cell_type": "code",
   "execution_count": null,
   "metadata": {},
   "outputs": [],
   "source": [
    "### One of the most important rules when making a scientific figure: Always include axis labels!\n",
    "### You can easily do this using the .set_xlabel() and .set_ylabel() methods\n",
    "\n",
    "# Here, I'm remaking the previous plot, including both the diagonal and vertical/horizontal lines\n",
    "fig, ax = plt.subplots(figsize=(5,5))\n",
    "ax.scatter(x,y, zorder=3, s=[300*i for i in x], c=[random.choice(['#1b9e77','#d95f02','#7570b3']) for each in x])\n",
    "ax.plot([0,0.6], [0,0.6], zorder=2, c=\"k\")\n",
    "ax.axhline(0.25, c=\"k\", ls=\":\")\n",
    "ax.axvline(0.25, c=\"k\", ls=\":\")\n",
    "\n",
    "### Here, I'm adding on to the previous plot, labeling the x-axis \"Value 1\" and the y-axis \"Value 2\"\n",
    "### I'm also setting the font size with the 'fontsize' argument\n",
    "ax.set_xlabel(\"Value 1\", fontsize=30)\n",
    "ax.set_ylabel(\"Value 2\", fontsize=30)\n",
    "\n",
    "### And here, I'm changing the font size for the tick labels on both axes\n",
    "ax.tick_params(axis='both', which='major', labelsize=20)"
   ]
  },
  {
   "cell_type": "markdown",
   "metadata": {
    "collapsed": true,
    "jupyter": {
     "outputs_hidden": true
    }
   },
   "source": [
    "#  Assignment 1.1\n",
    "\n",
    "## In the 'Assignment' directory for this week, you will find a file called 'RTT_data.txt' This is a tab-delimited data file containing information for constructing a root-to-tip plot (i.e., genetic divergence from the root of the tree vs. sampling date).\n",
    "\n",
    "## Read in these data and create a scatter plot with 'date' on the x-axis and 'distance' on the y-axis\n",
    "\n",
    "## The last portion of the names in the 'tip' column contain information about country of origin (LBR=Liberia, GUI=Guinea, MLI=Mali). Color each point in the plot according to this geographic information.\n",
    "\n",
    "## Make sure you add apropriate axis labels.\n",
    "\n"
   ]
  },
  {
   "cell_type": "code",
   "execution_count": null,
   "metadata": {},
   "outputs": [],
   "source": [
    "\n",
    "\n",
    "\n",
    "\n",
    "\n"
   ]
  },
  {
   "cell_type": "markdown",
   "metadata": {
    "collapsed": true,
    "jupyter": {
     "outputs_hidden": true
    }
   },
   "source": [
    "#  Assignment 1.2\n",
    "\n",
    "##  In the 'Assignment' directory for this week, you will find a file called 'case_data.txt'. This is a tab-delimited data file containing weekly case counts of Ebola virus disease in Liberia through 2014 and part of 2015.\n",
    "\n",
    "## Read in the data from this file so that you can access the floating points from the 'date' column and the integers from the 'count' column.\n",
    "\n",
    "## Then use .plot() to generate a line plot with date on the x-axis and count on the y-axis. \n",
    "\n",
    "## To ensure that the positions of the data points are clearly visible, use the .scatter() function to also plot the data points as circles. Use zorder to make sure that the circles are in the foreground.\n",
    "\n",
    "## Make sure you add apropriate axis labels.\n"
   ]
  },
  {
   "cell_type": "code",
   "execution_count": null,
   "metadata": {},
   "outputs": [],
   "source": [
    "\n",
    "\n",
    "\n"
   ]
  },
  {
   "cell_type": "markdown",
   "metadata": {},
   "source": [
    "# Histograms"
   ]
  },
  {
   "cell_type": "code",
   "execution_count": null,
   "metadata": {},
   "outputs": [],
   "source": [
    "### Another common tool for visualizing scientific data is a histogram\n",
    "### With matplotlib, you can generate histograms using the .hist() method\n",
    "\n",
    "### Let's go ahead and plot a histogram of the x-axis data from the scatter plots above\n",
    "### I'm also going to add axis labels and increase the font size for the tick labels\n",
    "\n",
    "fig, ax = plt.subplots()\n",
    "ax.hist(x)\n",
    "ax.set_xlabel(\"Value\", fontsize=30)\n",
    "ax.set_ylabel(\"Count\", fontsize=30)\n",
    "ax.tick_params(labelsize=20)"
   ]
  },
  {
   "cell_type": "code",
   "execution_count": null,
   "metadata": {},
   "outputs": [],
   "source": [
    "#That plot looks pretty good, but let's see how the plot changes if we add more bars using the 'bins' argument\n",
    "\n",
    "fig, ax = plt.subplots()\n",
    "ax.hist(x, bins=100)\n",
    "ax.set_xlabel(\"Value\", fontsize=30)\n",
    "ax.set_ylabel(\"Count\", fontsize=30)\n",
    "ax.tick_params(labelsize=20)"
   ]
  },
  {
   "cell_type": "markdown",
   "metadata": {
    "collapsed": true,
    "jupyter": {
     "outputs_hidden": true
    }
   },
   "source": [
    "#  Assignment 1.3\n",
    "\n",
    "## Generate a histogram using the 'Date' data from Assignment 1.1 (Not assignment 1.2!). \n",
    "\n",
    "## Choose a number bins that provides good resolution, and make sure to add axis labels.\n"
   ]
  },
  {
   "cell_type": "code",
   "execution_count": null,
   "metadata": {},
   "outputs": [],
   "source": []
  },
  {
   "cell_type": "markdown",
   "metadata": {},
   "source": [
    "# Boxplots"
   ]
  },
  {
   "cell_type": "code",
   "execution_count": null,
   "metadata": {},
   "outputs": [],
   "source": [
    "### Another common tool for visualizing scientific data is the boxplot\n",
    "### With matplotlib, you can generate boxplots using the .boxplot() method\n",
    "\n",
    "### The basic usage is pretty straightforward\n",
    "### Here we will use the x and y coordinate data used previously to generate the scatterplot\n",
    "\n",
    "fig, ax = plt.subplots(figsize=(5,5))\n",
    "ax.boxplot([x,y])\n",
    "### Because we're providing a list containing two lists of numerical values, two boxplots will be included in the figure\n",
    "\n",
    "### You can also add notches to show confidence intervals by setting 'notch' to True\n",
    "### Comment out the previous boxplot command and uncomment the command shown below\n",
    "\n",
    "#ax.boxplot([x,y], notch=True)\n",
    "### ^^^^^ In this case, the lower value of the CI is less that the lower quartile, \n",
    "    ### which gives a 'flipped' apprearance to the bottom of the boxplot\n",
    "\n",
    "### You can also make the boxplots horizontal by setting vert to False\n",
    "#ax.boxplot([x,y], vert=False)\n",
    "\n",
    "### And you can easily modify the location and width of the boxes and add labels for the boxplots\n",
    "### Here, I'm setting the x-axis positions to 1 and 5, I'm setting width to 3 for both boxplots\n",
    "    ### And, I'm setting the labels to be \"x-values\" and \"y-values\"\n",
    "#ax.boxplot([x,y], positions=[1,5], widths=[3,3], tick_labels=[\"x-values\", \"y-values\"])\n",
    "\n",
    "### And because matplotlib defaults to a very small text size, \n",
    "    ### Let's modify the x-axis and y-axis tick label size\n",
    "    ### This time, I'm modifying the labels for the x- and y-axes separately\n",
    "#ax.tick_params(axis='x', which='major', labelsize=25)\n",
    "#ax.tick_params(axis='y', which='major', labelsize=15)\n",
    "\n",
    "# And, of course, you need to make sure you have a y-axis label\n",
    "#ax.set_ylabel(\"Values\", fontsize=25)"
   ]
  },
  {
   "cell_type": "markdown",
   "metadata": {
    "collapsed": true,
    "jupyter": {
     "outputs_hidden": true
    }
   },
   "source": [
    "#  Assignment 1.4\n",
    "\n",
    "##  In the 'Assignment' directory for this week, you will find a file called 'importexport.txt'. This is a tab-delimited data file containing monthly estimates of the number of times Ebola virus was imported into and exported from two districts in Liberia (WesternUrban and WesternRural).\n",
    "\n",
    "## Read in the data from this file and use .boxplot() to generate a plot with four boxplots, one for each of these categories: 1) WesternUrban Imports, 2) WesternUrban Exports, 3) WesternRural Imports, 2) WesternRural Exports.\n",
    "\n",
    "## Make sure to inlcude appropriate x- and y-axis labels and ensure that these are easily legible. "
   ]
  },
  {
   "cell_type": "code",
   "execution_count": null,
   "metadata": {},
   "outputs": [],
   "source": []
  }
 ],
 "metadata": {
  "kernelspec": {
   "display_name": "Python 3 (ipykernel)",
   "language": "python",
   "name": "python3"
  },
  "language_info": {
   "codemirror_mode": {
    "name": "ipython",
    "version": 3
   },
   "file_extension": ".py",
   "mimetype": "text/x-python",
   "name": "python",
   "nbconvert_exporter": "python",
   "pygments_lexer": "ipython3",
   "version": "3.9.6"
  }
 },
 "nbformat": 4,
 "nbformat_minor": 4
}
