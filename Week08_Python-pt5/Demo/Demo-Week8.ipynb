{
 "cells": [
  {
   "cell_type": "code",
   "execution_count": 72,
   "metadata": {},
   "outputs": [],
   "source": []
  },
  {
   "cell_type": "markdown",
   "metadata": {},
   "source": [
    "# Cities"
   ]
  },
  {
   "cell_type": "code",
   "execution_count": null,
   "metadata": {},
   "outputs": [],
   "source": []
  },
  {
   "cell_type": "markdown",
   "metadata": {},
   "source": [
    "# Demo data"
   ]
  },
  {
   "cell_type": "code",
   "execution_count": null,
   "metadata": {},
   "outputs": [],
   "source": []
  },
  {
   "cell_type": "code",
   "execution_count": 1,
   "metadata": {},
   "outputs": [],
   "source": [
    "newLabels = [\"CodeName\", \"BB001_A\", \"BB001_B\", \"BB003_A\", \"BB003_B\", \"BB004_A\", \"BB004_B\", \"BB005_A\", \"BB005_B\", \"BB006_A\", \"BB006_B\", \"BB007_A\", \"BB007_B\", \"BB008_A\", \"BB008_B\", \"BB009_A\", \"BB009_B\", \"BB010_A\", \"BB010_B\", \"BB012_A\", \"BB012_B\", \"BB013_A\", \"BB013_B\", \"BB015_A\", \"BB015_B\", \"BB017_A\", \"BB017_B\", \"BB018_A\", \"BB018_B\", \"BB019_A\", \"BB019_B\", \"BB020_A\", \"BB020_B\", \"BB401_A\", \"BB401_B\", \"BB402_A\", \"BB402_B\", \"BB403_A\", \"BB403_B\", \"BB404_A\", \"BB404_B\", \"BB405_A\", \"BB405_B\", \"BB406_A\", \"BB406_B\", \"BB407_A\", \"BB407_B\", \"BB408_A\", \"BB408_B\", \"BB409_A\", \"BB409_B\", \"BB410_A\", \"BB410_B\", \"BB411_A\", \"BB411_B\", \"BB412_A\", \"BB412_B\", \"BB413_A\", \"BB413_B\", \"BB414_A\", \"BB414_B\", \"BB415_A\", \"BB415_B\", \"Neg_A\", \"Neg_B\", \"Neg_C\", \"Neg_D\", \"Neg_E\", \"Neg_F\", \"Neg_G\", \"Neg_H\", \"Neg_I\", \"Neg_J\"]\n"
   ]
  }
 ],
 "metadata": {
  "kernelspec": {
   "display_name": "Python 3 (ipykernel)",
   "language": "python",
   "name": "python3"
  },
  "language_info": {
   "codemirror_mode": {
    "name": "ipython",
    "version": 3
   },
   "file_extension": ".py",
   "mimetype": "text/x-python",
   "name": "python",
   "nbconvert_exporter": "python",
   "pygments_lexer": "ipython3",
   "version": "3.9.6"
  }
 },
 "nbformat": 4,
 "nbformat_minor": 4
}
