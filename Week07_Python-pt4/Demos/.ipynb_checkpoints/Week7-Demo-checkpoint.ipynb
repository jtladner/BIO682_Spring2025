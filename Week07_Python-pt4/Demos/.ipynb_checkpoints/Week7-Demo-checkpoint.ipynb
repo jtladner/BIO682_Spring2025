{
 "cells": [
  {
   "cell_type": "markdown",
   "metadata": {},
   "source": [
    "# Sets"
   ]
  },
  {
   "cell_type": "code",
   "execution_count": 10,
   "metadata": {},
   "outputs": [
    {
     "name": "stdout",
     "output_type": "stream",
     "text": [
      "8 5\n",
      "{'red', 'yellow'}\n",
      "{'blue', 'black', 'white', 'pink', 'green', 'purple'}\n",
      "{'indigo', 'orange', 'grey'}\n",
      "{'blue', 'black', 'orange', 'grey', 'indigo', 'white', 'pink', 'green', 'purple'}\n",
      "S1 is NOT a subset of s2\n"
     ]
    }
   ],
   "source": [
    "list1 = [\"red\", \"blue\", \"purple\", \"black\", \"red\", \"blue\", \"red\", \"blue\", \"white\", \"green\", \"yellow\", \"pink\", \"white\", \"purple\", \"black\", \"white\", \"white\", \"black\", \"green\", \"blue\", \"purple\", \"black\", \"blue\", \"purple\", \"black\", \"blue\", \"purple\", \"black\", \"blue\", \"purple\", \"black\", \"blue\", \"purple\", \"black\", \"green\", \"yellow\", \"green\", \"yellow\", \"green\", \"yellow\"]\n",
    "list2 = [\"orange\", \"orange\", \"orange\", \"orange\", \"orange\", \"orange\", \"orange\", \"orange\", \"grey\", \"orange\", \"orange\", \"grey\", \"yellow\", \"orange\", \"grey\", \"yellow\", \"orange\", \"grey\", \"yellow\", \"orange\", \"grey\", \"yellow\", \"orange\", \"grey\", \"yellow\", \"orange\", \"grey\", \"yellow\", \"red\", \"indigo\", \"orange\", \"grey\", \"yellow\", \"red\", \"indigo\", \"orange\", \"grey\", \"yellow\", \"red\", \"indigo\", \"orange\", \"grey\", \"yellow\", \"red\", \"indigo\", \"orange\", \"orange\", \"grey\", \"yellow\", \"red\", \"indigo\", \"orange\", \"grey\", \"yellow\", \"red\", \"indigo\", \"orange\", \"grey\", \"yellow\", \"red\", \"indigo\", \"orange\", \"grey\", \"yellow\", \"red\", \"indigo\", \"grey\", \"yellow\", \"red\", \"indigo\"]\n",
    "\n",
    "s1 = set(list1)\n",
    "s2 = set(list2)\n",
    "\n",
    "print(len(s1), len(s2))\n",
    "\n",
    "print(s2.intersection(s1))\n",
    "\n",
    "print(s1.difference(s2))\n",
    "print(s2.difference(s1))\n",
    "\n",
    "print(s2.symmetric_difference(s1))\n",
    "\n",
    "if s1.issubset(s2):\n",
    "    print(\"S1 is a subset of s2\")\n",
    "else:\n",
    "    print(\"S1 is NOT a subset of s2\")"
   ]
  },
  {
   "cell_type": "markdown",
   "metadata": {},
   "source": [
    "# Functions "
   ]
  },
  {
   "cell_type": "code",
   "execution_count": 11,
   "metadata": {},
   "outputs": [],
   "source": [
    "def gc(seq):\n",
    "    seq = seq.upper()\n",
    "    g = seq.count(\"G\")\n",
    "    c = seq.count(\"C\")\n",
    "    gcProp = (g+c)/len(seq)\n",
    "    return gcProp"
   ]
  },
  {
   "cell_type": "code",
   "execution_count": 16,
   "metadata": {},
   "outputs": [],
   "source": [
    "def gcL(seqL):\n",
    "    seqL = [seq.upper() for seq in seqL]\n",
    "    gL = [seq.count(\"G\") for seq in seqL]\n",
    "    cL = [seq.count(\"C\") for seq in seqL]\n",
    "    gcProp = [(gL[i]+cL[i])/len(seqL[i]) for i in range(len(seqL))]\n",
    "    return gcProp"
   ]
  },
  {
   "cell_type": "code",
   "execution_count": 16,
   "metadata": {},
   "outputs": [],
   "source": [
    "def gcL_better(seqL):\n",
    "    gcProp = [gc(s) for s in seqL]\n",
    "    return gcProp"
   ]
  },
  {
   "cell_type": "code",
   "execution_count": 17,
   "metadata": {},
   "outputs": [
    {
     "data": {
      "text/plain": [
       "[0.3333333333333333, 0.13333333333333333, 0.0, 0.2857142857142857]"
      ]
     },
     "execution_count": 17,
     "metadata": {},
     "output_type": "execute_result"
    }
   ],
   "source": [
    "seqL = [\"ACTAGATACGAT\", \"YATAGSTFARAGSTY\", \"AAAAATTTTTT\", \"agatacatagatac\"]\n",
    "\n",
    "gcL(seqL)"
   ]
  },
  {
   "cell_type": "code",
   "execution_count": 15,
   "metadata": {},
   "outputs": [
    {
     "data": {
      "text/plain": [
       "[0.3333333333333333, 0.13333333333333333, 0.0, 0.2857142857142857]"
      ]
     },
     "execution_count": 15,
     "metadata": {},
     "output_type": "execute_result"
    }
   ],
   "source": [
    "gcL = [gc(s) for s in seqL]\n",
    "gcL"
   ]
  },
  {
   "cell_type": "code",
   "execution_count": null,
   "metadata": {},
   "outputs": [],
   "source": []
  },
  {
   "cell_type": "code",
   "execution_count": null,
   "metadata": {},
   "outputs": [],
   "source": []
  },
  {
   "cell_type": "code",
   "execution_count": null,
   "metadata": {},
   "outputs": [],
   "source": []
  },
  {
   "cell_type": "code",
   "execution_count": null,
   "metadata": {},
   "outputs": [],
   "source": []
  }
 ],
 "metadata": {
  "kernelspec": {
   "display_name": "Python 3 (ipykernel)",
   "language": "python",
   "name": "python3"
  },
  "language_info": {
   "codemirror_mode": {
    "name": "ipython",
    "version": 3
   },
   "file_extension": ".py",
   "mimetype": "text/x-python",
   "name": "python",
   "nbconvert_exporter": "python",
   "pygments_lexer": "ipython3",
   "version": "3.9.6"
  }
 },
 "nbformat": 4,
 "nbformat_minor": 4
}
