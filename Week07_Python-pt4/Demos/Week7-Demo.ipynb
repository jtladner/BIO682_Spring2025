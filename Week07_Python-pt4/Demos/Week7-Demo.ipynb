{
 "cells": [
  {
   "cell_type": "markdown",
   "metadata": {},
   "source": [
    "# Sets"
   ]
  },
  {
   "cell_type": "code",
   "execution_count": 1,
   "metadata": {},
   "outputs": [],
   "source": [
    "list1 = [\"red\", \"blue\", \"purple\", \"black\", \"red\", \"blue\", \"red\", \"blue\", \"white\", \"green\", \"yellow\", \"pink\", \"white\", \"purple\", \"black\", \"white\", \"white\", \"black\", \"green\", \"blue\", \"purple\", \"black\", \"blue\", \"purple\", \"black\", \"blue\", \"purple\", \"black\", \"blue\", \"purple\", \"black\", \"blue\", \"purple\", \"black\", \"green\", \"yellow\", \"green\", \"yellow\", \"green\", \"yellow\"]\n",
    "list2 = [\"red\", \"blue\", \"purple\", \"black\", \"red\", \"blue\", \"red\", \"blue\", \"white\", \"green\", \"yellow\", \"pink\", \"white\", \"purple\", \"black\", \"white\", \"white\", \"black\", \"green\", \"blue\", \"purple\", \"black\", \"blue\", \"purple\", \"black\", \"blue\", \"purple\", \"black\", \"blue\", \"purple\", \"black\", \"blue\", \"purple\", \"black\", \"green\", \"yellow\", \"green\", \"yellow\", \"green\", \"yellow\"]\n",
    "\n",
    "    "
   ]
  },
  {
   "cell_type": "markdown",
   "metadata": {},
   "source": [
    "# Functions "
   ]
  },
  {
   "cell_type": "code",
   "execution_count": 2,
   "metadata": {},
   "outputs": [],
   "source": [
    "seqL = [\"ACTAGATACGAT\", \"YATAGSTFARAGSTY\", \"AAAAATTTTTT\", \"agatacatagatac\"]\n",
    "\n"
   ]
  },
  {
   "cell_type": "code",
   "execution_count": null,
   "metadata": {},
   "outputs": [],
   "source": []
  },
  {
   "cell_type": "code",
   "execution_count": null,
   "metadata": {},
   "outputs": [],
   "source": []
  },
  {
   "cell_type": "code",
   "execution_count": null,
   "metadata": {},
   "outputs": [],
   "source": []
  },
  {
   "cell_type": "code",
   "execution_count": null,
   "metadata": {},
   "outputs": [],
   "source": []
  },
  {
   "cell_type": "code",
   "execution_count": null,
   "metadata": {},
   "outputs": [],
   "source": []
  }
 ],
 "metadata": {
  "kernelspec": {
   "display_name": "Python 3 (ipykernel)",
   "language": "python",
   "name": "python3"
  },
  "language_info": {
   "codemirror_mode": {
    "name": "ipython",
    "version": 3
   },
   "file_extension": ".py",
   "mimetype": "text/x-python",
   "name": "python",
   "nbconvert_exporter": "python",
   "pygments_lexer": "ipython3",
   "version": "3.9.6"
  }
 },
 "nbformat": 4,
 "nbformat_minor": 4
}
