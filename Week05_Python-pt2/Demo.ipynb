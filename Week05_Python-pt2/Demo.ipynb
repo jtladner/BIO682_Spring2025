{
 "cells": [
  {
   "cell_type": "code",
   "execution_count": 45,
   "id": "7bc93ca4-322c-4e81-9c75-a3aa8901e7d3",
   "metadata": {},
   "outputs": [],
   "source": [
    "l = list(range(100,2000))"
   ]
  },
  {
   "cell_type": "code",
   "execution_count": 46,
   "id": "c08ad716-d3e8-4c85-b4ad-9072f344b618",
   "metadata": {},
   "outputs": [],
   "source": [
    "l2 = l[:]"
   ]
  },
  {
   "cell_type": "code",
   "execution_count": 47,
   "id": "b0697d3a-3131-4201-8614-d324c8714d5e",
   "metadata": {},
   "outputs": [],
   "source": [
    "l.append(\"Test\")"
   ]
  },
  {
   "cell_type": "code",
   "execution_count": 48,
   "id": "ee350bba-982a-4294-8d9e-9e358f2f5e8f",
   "metadata": {},
   "outputs": [
    {
     "data": {
      "text/plain": [
       "1999"
      ]
     },
     "execution_count": 48,
     "metadata": {},
     "output_type": "execute_result"
    }
   ],
   "source": [
    "l2[-1]"
   ]
  },
  {
   "cell_type": "code",
   "execution_count": 63,
   "id": "d7841666-6b43-4faa-9c2c-83834ade925c",
   "metadata": {},
   "outputs": [
    {
     "data": {
      "text/plain": [
       "['This', 'should', 'have', 'been', 'a', 'snow', 'day!']"
      ]
     },
     "execution_count": 63,
     "metadata": {},
     "output_type": "execute_result"
    }
   ],
   "source": [
    "s = \"This should have been a snow day!\\n\"\n",
    "s = s.rstrip(\"\\n\")\n",
    "sl = s.split(\" \")\n",
    "#sl[-2]\n",
    "sl"
   ]
  },
  {
   "cell_type": "code",
   "execution_count": 72,
   "id": "124768a7-4dfd-4ba3-9e00-d02dd2746653",
   "metadata": {},
   "outputs": [
    {
     "data": {
      "text/plain": [
       "'This  should  have  been  a  sunny  day!'"
      ]
     },
     "execution_count": 72,
     "metadata": {},
     "output_type": "execute_result"
    }
   ],
   "source": [
    "sl2 = sl[:-2] + [\"sunny\"] + sl[-1:]\n",
    "\"  \".join(sl2)"
   ]
  },
  {
   "cell_type": "code",
   "execution_count": 54,
   "id": "58b75776-b5eb-4ea5-a657-0d4e08cd27d1",
   "metadata": {},
   "outputs": [
    {
     "data": {
      "text/plain": [
       "['T',\n",
       " 'h',\n",
       " 'i',\n",
       " 's',\n",
       " ' ',\n",
       " 's',\n",
       " 'h',\n",
       " 'o',\n",
       " 'u',\n",
       " 'l',\n",
       " 'd',\n",
       " ' ',\n",
       " 'h',\n",
       " 'a',\n",
       " 'v',\n",
       " 'e',\n",
       " ' ',\n",
       " 'b',\n",
       " 'e',\n",
       " 'e',\n",
       " 'n',\n",
       " ' ',\n",
       " 'a',\n",
       " ' ',\n",
       " 's',\n",
       " 'n',\n",
       " 'o',\n",
       " 'w',\n",
       " ' ',\n",
       " 'd',\n",
       " 'a',\n",
       " 'y',\n",
       " '!']"
      ]
     },
     "execution_count": 54,
     "metadata": {},
     "output_type": "execute_result"
    }
   ],
   "source": [
    "list(s)"
   ]
  },
  {
   "cell_type": "code",
   "execution_count": 74,
   "id": "9d86ba22-45b9-40c3-a884-26fa54b99f6a",
   "metadata": {},
   "outputs": [
    {
     "name": "stdout",
     "output_type": "stream",
     "text": [
      "0 is divisible by 3\n",
      "1 is NOT divisible by 2 or 3\n",
      "2 is divisible by 2, but not divisible by 3\n",
      "3 is divisible by 3\n",
      "4 is divisible by 2, but not divisible by 3\n",
      "5 is NOT divisible by 2 or 3\n",
      "6 is divisible by 3\n",
      "7 is NOT divisible by 2 or 3\n",
      "8 is divisible by 2, but not divisible by 3\n",
      "9 is divisible by 3\n",
      "10 is divisible by 2, but not divisible by 3\n",
      "11 is NOT divisible by 2 or 3\n",
      "12 is divisible by 3\n",
      "13 is NOT divisible by 2 or 3\n",
      "14 is divisible by 2, but not divisible by 3\n",
      "15 is divisible by 3\n",
      "16 is divisible by 2, but not divisible by 3\n",
      "17 is NOT divisible by 2 or 3\n",
      "18 is divisible by 3\n",
      "19 is NOT divisible by 2 or 3\n",
      "20 is divisible by 2, but not divisible by 3\n",
      "21 is divisible by 3\n",
      "22 is divisible by 2, but not divisible by 3\n",
      "23 is NOT divisible by 2 or 3\n",
      "24 is divisible by 3\n",
      "25 is NOT divisible by 2 or 3\n",
      "26 is divisible by 2, but not divisible by 3\n",
      "27 is divisible by 3\n",
      "28 is divisible by 2, but not divisible by 3\n",
      "29 is NOT divisible by 2 or 3\n",
      "30 is divisible by 3\n",
      "31 is NOT divisible by 2 or 3\n",
      "32 is divisible by 2, but not divisible by 3\n",
      "33 is divisible by 3\n",
      "34 is divisible by 2, but not divisible by 3\n",
      "35 is NOT divisible by 2 or 3\n",
      "36 is divisible by 3\n",
      "37 is NOT divisible by 2 or 3\n",
      "38 is divisible by 2, but not divisible by 3\n",
      "39 is divisible by 3\n"
     ]
    }
   ],
   "source": [
    "for i in range(40):\n",
    "    if i%3==0:\n",
    "        print(i, \"is divisible by 3\")\n",
    "    elif i%2==0:\n",
    "        print(i, \"is divisible by 2, but not divisible by 3\")\n",
    "    else:\n",
    "        print(i, \"is NOT divisible by 2 or 3\")"
   ]
  },
  {
   "cell_type": "code",
   "execution_count": 80,
   "id": "3a2fe5fc-7610-49b3-923b-75c9bb1725ab",
   "metadata": {},
   "outputs": [
    {
     "name": "stdout",
     "output_type": "stream",
     "text": [
      "27001\n"
     ]
    }
   ],
   "source": [
    "i = 1\n",
    "counter=0\n",
    "while counter<1000:\n",
    "    if i%27==0:\n",
    "        counter+=1\n",
    "    i+=1\n",
    "print(i) "
   ]
  },
  {
   "cell_type": "code",
   "execution_count": 83,
   "id": "27a0b700-966a-4df4-b720-fbb325b1d2a0",
   "metadata": {},
   "outputs": [
    {
     "name": "stdout",
     "output_type": "stream",
     "text": [
      "1 one\n",
      "2 two\n",
      "3 three\n"
     ]
    }
   ],
   "source": [
    "d={1:\"one\", 2:\"two\", 3:\"three\"}\n",
    "for k,v in d.items():\n",
    "    print(k,v)"
   ]
  },
  {
   "cell_type": "code",
   "execution_count": 85,
   "id": "18010911-79cf-4c96-9173-bf4986ff100a",
   "metadata": {},
   "outputs": [
    {
     "data": {
      "text/plain": [
       "['one', 'two', 'three']"
      ]
     },
     "execution_count": 85,
     "metadata": {},
     "output_type": "execute_result"
    }
   ],
   "source": [
    "l=list(d.values())\n",
    "l"
   ]
  },
  {
   "cell_type": "code",
   "execution_count": 86,
   "id": "ed10db51-c6de-480f-9513-05992217030a",
   "metadata": {},
   "outputs": [
    {
     "name": "stdout",
     "output_type": "stream",
     "text": [
      "0 one\n",
      "1 two\n",
      "2 three\n"
     ]
    }
   ],
   "source": [
    "for i,x in enumerate(l):\n",
    "    print(i,x)"
   ]
  }
 ],
 "metadata": {
  "kernelspec": {
   "display_name": "Python 3 (ipykernel)",
   "language": "python",
   "name": "python3"
  },
  "language_info": {
   "codemirror_mode": {
    "name": "ipython",
    "version": 3
   },
   "file_extension": ".py",
   "mimetype": "text/x-python",
   "name": "python",
   "nbconvert_exporter": "python",
   "pygments_lexer": "ipython3",
   "version": "3.9.6"
  }
 },
 "nbformat": 4,
 "nbformat_minor": 5
}
