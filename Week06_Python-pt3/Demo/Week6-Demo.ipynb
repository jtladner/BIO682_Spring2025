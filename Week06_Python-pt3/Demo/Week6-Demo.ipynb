{
 "cells": [
  {
   "cell_type": "markdown",
   "metadata": {},
   "source": [
    "# Import modules"
   ]
  },
  {
   "cell_type": "code",
   "execution_count": 8,
   "metadata": {},
   "outputs": [],
   "source": []
  },
  {
   "cell_type": "markdown",
   "metadata": {},
   "source": [
    "# List comprehension"
   ]
  },
  {
   "cell_type": "code",
   "execution_count": 3,
   "metadata": {},
   "outputs": [],
   "source": [
    "gens = [\"apis\", \"aedes\", \"omus\", \"canis\"]\n"
   ]
  },
  {
   "cell_type": "code",
   "execution_count": 2,
   "metadata": {},
   "outputs": [],
   "source": [
    "counts = [16, 725, 12, -6737, 83, 432, 190, -123, 29, 921, 1045, 3, 40, -4, 721, 128, 397, 455, 32, 701, 1034, -341]\n"
   ]
  },
  {
   "cell_type": "markdown",
   "metadata": {},
   "source": [
    "# Dictionary comprehension"
   ]
  },
  {
   "cell_type": "code",
   "execution_count": 4,
   "metadata": {},
   "outputs": [],
   "source": [
    "generaObserved = [\"Apis\", \"Canis\", \"Omus\", \"Canis\", \"Omus\", \"Canis\", \"Canis\", \"Apis\", \"Omus\", \"Aedes\", \"Omus\", \"Apis\", \"Canis\", \"Apis\", \"Apis\", \"Omus\", \"Aedes\", \"Omus\", \"Apis\", \"Aedes\", \"Apis\", \"Aedes\", \"Aedes\", \"Omus\", \"Omus\", \"Omus\", \"Apis\", \"Apis\", \"Apis\", \"Aedes\", \"Aedes\", \"Aedes\", \"Apis\", \"Apis\", \"Apis\", \"Apis\", \"Omus\", \"Apis\", \"Apis\", \"Apis\", \"Apis\", \"Apis\", \"Apis\", \"Apis\", \"Canis\", \"Apis\", \"Apis\", \"Apis\", \"Apis\", \"Canis\", \"Apis\", \"Apis\", \"Apis\", \"Canis\", \"Apis\", \"Canis\", \"Apis\", \"Apis\", \"Canis\", \"Omus\", \"Canis\", \"Canis\", ]\n"
   ]
  },
  {
   "cell_type": "markdown",
   "metadata": {},
   "source": [
    "# String formatting - using %"
   ]
  },
  {
   "cell_type": "code",
   "execution_count": null,
   "metadata": {},
   "outputs": [],
   "source": []
  },
  {
   "cell_type": "markdown",
   "metadata": {},
   "source": [
    "# String formatting - using f-strings"
   ]
  },
  {
   "cell_type": "code",
   "execution_count": null,
   "metadata": {},
   "outputs": [],
   "source": []
  },
  {
   "cell_type": "markdown",
   "metadata": {},
   "source": [
    "# Read from file, Writing to files"
   ]
  },
  {
   "cell_type": "code",
   "execution_count": 62,
   "metadata": {},
   "outputs": [],
   "source": []
  },
  {
   "cell_type": "code",
   "execution_count": null,
   "metadata": {},
   "outputs": [],
   "source": []
  }
 ],
 "metadata": {
  "kernelspec": {
   "display_name": "Python 3 (ipykernel)",
   "language": "python",
   "name": "python3"
  },
  "language_info": {
   "codemirror_mode": {
    "name": "ipython",
    "version": 3
   },
   "file_extension": ".py",
   "mimetype": "text/x-python",
   "name": "python",
   "nbconvert_exporter": "python",
   "pygments_lexer": "ipython3",
   "version": "3.9.6"
  }
 },
 "nbformat": 4,
 "nbformat_minor": 4
}
