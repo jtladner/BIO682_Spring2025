{
 "cells": [
  {
   "cell_type": "markdown",
   "metadata": {},
   "source": [
    "# Import modules"
   ]
  },
  {
   "cell_type": "code",
   "execution_count": 1,
   "metadata": {},
   "outputs": [
    {
     "name": "stdout",
     "output_type": "stream",
     "text": [
      "You must have Sympy installed to use the generatePatterns function\n"
     ]
    }
   ],
   "source": [
    "import random,os\n",
    "import itertools as it\n",
    "import numpy as np\n",
    "import seaborn as sns\n",
    "\n",
    "from collections import defaultdict\n",
    "\n",
    "import inout as io\n",
    "import fastatools as ft"
   ]
  },
  {
   "cell_type": "code",
   "execution_count": 8,
   "metadata": {},
   "outputs": [],
   "source": [
    "import collections"
   ]
  },
  {
   "cell_type": "code",
   "execution_count": 4,
   "metadata": {},
   "outputs": [
    {
     "data": {
      "text/plain": [
       "['__builtins__',\n",
       " '__cached__',\n",
       " '__doc__',\n",
       " '__file__',\n",
       " '__loader__',\n",
       " '__name__',\n",
       " '__package__',\n",
       " '__spec__',\n",
       " 'alignCoordMap',\n",
       " 'combine_fastafiles',\n",
       " 'consensus_fasta',\n",
       " 'phred',\n",
       " 'read_fasta_dict',\n",
       " 'read_fasta_dict_multi',\n",
       " 'read_fasta_dict_upper',\n",
       " 'read_fasta_dict_whitespace',\n",
       " 'read_fasta_lists',\n",
       " 'read_fasta_lists_whitespace',\n",
       " 'read_fastq_dicts',\n",
       " 'seqLenDict',\n",
       " 'seqLenList',\n",
       " 'st',\n",
       " 'write_fasta',\n",
       " 'write_fasta_dict']"
      ]
     },
     "execution_count": 4,
     "metadata": {},
     "output_type": "execute_result"
    }
   ],
   "source": [
    "dir(ft)"
   ]
  },
  {
   "cell_type": "code",
   "execution_count": 3,
   "metadata": {},
   "outputs": [
    {
     "data": {
      "text/plain": [
       "['__doc__',\n",
       " '__loader__',\n",
       " '__name__',\n",
       " '__package__',\n",
       " '__spec__',\n",
       " '_grouper',\n",
       " '_tee',\n",
       " '_tee_dataobject',\n",
       " 'accumulate',\n",
       " 'chain',\n",
       " 'combinations',\n",
       " 'combinations_with_replacement',\n",
       " 'compress',\n",
       " 'count',\n",
       " 'cycle',\n",
       " 'dropwhile',\n",
       " 'filterfalse',\n",
       " 'groupby',\n",
       " 'islice',\n",
       " 'permutations',\n",
       " 'product',\n",
       " 'repeat',\n",
       " 'starmap',\n",
       " 'takewhile',\n",
       " 'tee',\n",
       " 'zip_longest']"
      ]
     },
     "execution_count": 3,
     "metadata": {},
     "output_type": "execute_result"
    }
   ],
   "source": [
    "dir(it)"
   ]
  },
  {
   "cell_type": "markdown",
   "metadata": {},
   "source": [
    "# List comprehension"
   ]
  },
  {
   "cell_type": "code",
   "execution_count": 6,
   "metadata": {},
   "outputs": [
    {
     "data": {
      "text/plain": [
       "['Apis', 'Aedes', 'Omus', 'Canis']"
      ]
     },
     "execution_count": 6,
     "metadata": {},
     "output_type": "execute_result"
    }
   ],
   "source": [
    "gens = [\"apis\", \"aedes\", \"omus\", \"canis\"]\n",
    "gens2 = [n[0].upper()+n[1:] for n in gens]\n",
    "gens2"
   ]
  },
  {
   "cell_type": "code",
   "execution_count": 11,
   "metadata": {},
   "outputs": [
    {
     "data": {
      "text/plain": [
       "6034"
      ]
     },
     "execution_count": 11,
     "metadata": {},
     "output_type": "execute_result"
    }
   ],
   "source": [
    "counts = [16, 725, 12, -6737, 83, 432, 190, -123, 29, 921, 1045, 3, 40, -4, 721, 128, 397, 455, 32, 701, 1034, -341]\n",
    "num400 = len([num for num in counts if num>400])\n",
    "num400\n",
    "\n",
    "sum([num for num in counts if num>400])"
   ]
  },
  {
   "cell_type": "markdown",
   "metadata": {},
   "source": [
    "# Dictionary comprehension"
   ]
  },
  {
   "cell_type": "code",
   "execution_count": 18,
   "metadata": {},
   "outputs": [
    {
     "name": "stdout",
     "output_type": "stream",
     "text": [
      "{'Apis': 31, 'Aedes': 8, 'Omus': 11, 'Canis': 12}\n",
      "{'Omus': 11, 'Canis': 12}\n"
     ]
    }
   ],
   "source": [
    "generaObserved = [\"Apis\", \"Canis\", \"Omus\", \"Canis\", \"Omus\", \"Canis\", \"Canis\", \"Apis\", \"Omus\", \"Aedes\", \"Omus\", \"Apis\", \"Canis\", \"Apis\", \"Apis\", \"Omus\", \"Aedes\", \"Omus\", \"Apis\", \"Aedes\", \"Apis\", \"Aedes\", \"Aedes\", \"Omus\", \"Omus\", \"Omus\", \"Apis\", \"Apis\", \"Apis\", \"Aedes\", \"Aedes\", \"Aedes\", \"Apis\", \"Apis\", \"Apis\", \"Apis\", \"Omus\", \"Apis\", \"Apis\", \"Apis\", \"Apis\", \"Apis\", \"Apis\", \"Apis\", \"Canis\", \"Apis\", \"Apis\", \"Apis\", \"Apis\", \"Canis\", \"Apis\", \"Apis\", \"Apis\", \"Canis\", \"Apis\", \"Canis\", \"Apis\", \"Apis\", \"Canis\", \"Omus\", \"Canis\", \"Canis\", ]\n",
    "\n",
    "countD={k:0 for k in gens2}\n",
    "for g in generaObserved:\n",
    "    countD[g] +=1\n",
    "print(countD)\n",
    "\n",
    "testD = {k:v for k,v in countD.items() if not k.startswith(\"A\")}\n",
    "print(testD)"
   ]
  },
  {
   "cell_type": "code",
   "execution_count": 20,
   "metadata": {},
   "outputs": [
    {
     "data": {
      "text/plain": [
       "{'Apis': 31, 'Aedes': 8, 'Omus': 11, 'Canis': 12}"
      ]
     },
     "execution_count": 20,
     "metadata": {},
     "output_type": "execute_result"
    }
   ],
   "source": [
    "c2D = {k:generaObserved.count(k) for k in gens2}\n",
    "c2D"
   ]
  },
  {
   "cell_type": "code",
   "execution_count": 24,
   "metadata": {},
   "outputs": [
    {
     "data": {
      "text/plain": [
       "{'Aedes': 8, 'Apis': 31, 'Canis': 12, 'Omus': 11}"
      ]
     },
     "execution_count": 24,
     "metadata": {},
     "output_type": "execute_result"
    }
   ],
   "source": [
    "c2D = {k:generaObserved.count(k) for k in sorted(list(set(generaObserved)))}\n",
    "c2D"
   ]
  },
  {
   "cell_type": "code",
   "execution_count": 23,
   "metadata": {},
   "outputs": [
    {
     "data": {
      "text/plain": [
       "{'Aedes', 'Apis', 'Canis', 'Omus'}"
      ]
     },
     "execution_count": 23,
     "metadata": {},
     "output_type": "execute_result"
    }
   ],
   "source": [
    "set(generaObserved)\n"
   ]
  },
  {
   "cell_type": "markdown",
   "metadata": {},
   "source": [
    "# String formatting - using %"
   ]
  },
  {
   "cell_type": "code",
   "execution_count": 32,
   "metadata": {},
   "outputs": [
    {
     "name": "stdout",
     "output_type": "stream",
     "text": [
      "Aedes,2.666667\n",
      "Apis,10.333333\n",
      "Canis,4.000000\n",
      "Omus,3.666667\n"
     ]
    }
   ],
   "source": [
    "for k,v in c2D.items():\n",
    "    print(\"%s,%f\" % (k,v/3))"
   ]
  },
  {
   "cell_type": "code",
   "execution_count": 28,
   "metadata": {},
   "outputs": [
    {
     "name": "stdout",
     "output_type": "stream",
     "text": [
      "Aedes,8\n",
      "Apis,31\n",
      "Canis,12\n",
      "Omus,11\n"
     ]
    }
   ],
   "source": [
    "for k in c2D:\n",
    "    print(\"%s,%d\" % (k,c2D[k]))"
   ]
  },
  {
   "cell_type": "markdown",
   "metadata": {},
   "source": [
    "# String formatting - using f-strings"
   ]
  },
  {
   "cell_type": "code",
   "execution_count": 41,
   "metadata": {},
   "outputs": [
    {
     "name": "stdout",
     "output_type": "stream",
     "text": [
      "Aedes\t3\n",
      "Apis\t10\n",
      "Canis\t4\n",
      "Omus\t4\n"
     ]
    }
   ],
   "source": [
    "for k,v in c2D.items():\n",
    "    print(f\"{k}\\t{v/3:.0f}\")"
   ]
  },
  {
   "cell_type": "markdown",
   "metadata": {},
   "source": [
    "# Read from file, Writing to files"
   ]
  },
  {
   "cell_type": "code",
   "execution_count": 48,
   "metadata": {},
   "outputs": [
    {
     "data": {
      "text/plain": [
       "{'BFV': 191,\n",
       " 'CHIKV': 474,\n",
       " 'EEEV': 465,\n",
       " 'EVEV': 101,\n",
       " 'GETV': 183,\n",
       " 'HJV': 180,\n",
       " 'MAYV': 279,\n",
       " 'MDPV': 157,\n",
       " 'MUCV': 159,\n",
       " 'NDUV': 175,\n",
       " 'ONNV': 216,\n",
       " 'PIXV': 159,\n",
       " 'RNV': 168,\n",
       " 'RRV': 260,\n",
       " 'SFV': 183,\n",
       " 'SINV': 283,\n",
       " 'TONV': 132,\n",
       " 'UNAV': 171,\n",
       " 'VEEV': 415,\n",
       " 'WEEV': 172,\n",
       " 'WHATV': 163,\n",
       " 'AROAV': 385,\n",
       " 'BAGV': 167,\n",
       " 'BANV': 167,\n",
       " 'CPCV': 165,\n",
       " 'DENV-1': 915,\n",
       " 'DENV-2': 4320,\n",
       " 'DENV-3': 536,\n",
       " 'DENV-4': 427,\n",
       " 'EHV': 166,\n",
       " 'GGYV': 164,\n",
       " 'ILHV': 366,\n",
       " 'JEV': 1955,\n",
       " 'KFDV': 375,\n",
       " 'KOKV': 421,\n",
       " 'LGTV': 175,\n",
       " 'LIV': 366,\n",
       " 'MVEV': 200,\n",
       " 'NTAV': 151,\n",
       " 'OHFV': 206,\n",
       " 'POWV': 424,\n",
       " 'RBV': 167,\n",
       " 'SLEV': 169,\n",
       " 'TBEV': 460,\n",
       " 'TMUV': 161,\n",
       " 'UGSV': 163,\n",
       " 'USUV': 190,\n",
       " 'WESSV': 168,\n",
       " 'WNV': 732,\n",
       " 'YFV': 525,\n",
       " 'ZIKV': 307,\n",
       " '': 221}"
      ]
     },
     "execution_count": 48,
     "metadata": {},
     "output_type": "execute_result"
    }
   ],
   "source": [
    "cD = {}\n",
    "with open(\"FAV_meta.tsv\", \"r\") as fin:\n",
    "    next(fin)\n",
    "    for line in fin:\n",
    "        cols = line.rstrip(\"\\n\").split(\"\\t\")\n",
    "        virus = cols[4]\n",
    "        cD[virus] = cD.get(virus, 0) + 1\n",
    "\n",
    "cD"
   ]
  },
  {
   "cell_type": "code",
   "execution_count": 50,
   "metadata": {},
   "outputs": [],
   "source": [
    "with open(\"FAV_meta.tsv\", \"r\") as fin:\n",
    "    with open(\"BFV_meta.tsv\", \"w\") as fout:\n",
    "        lc=0\n",
    "        for line in fin:\n",
    "            lc+=1\n",
    "            if lc==1:\n",
    "                fout.write(line)\n",
    "            else:\n",
    "                cols = line.rstrip(\"\\n\").split(\"\\t\")\n",
    "                virus = cols[4]\n",
    "                if virus == \"BFV\":\n",
    "                    fout.write(line)\n"
   ]
  },
  {
   "cell_type": "code",
   "execution_count": null,
   "metadata": {},
   "outputs": [],
   "source": []
  }
 ],
 "metadata": {
  "kernelspec": {
   "display_name": "Python 3 (ipykernel)",
   "language": "python",
   "name": "python3"
  },
  "language_info": {
   "codemirror_mode": {
    "name": "ipython",
    "version": 3
   },
   "file_extension": ".py",
   "mimetype": "text/x-python",
   "name": "python",
   "nbconvert_exporter": "python",
   "pygments_lexer": "ipython3",
   "version": "3.9.6"
  }
 },
 "nbformat": 4,
 "nbformat_minor": 4
}
